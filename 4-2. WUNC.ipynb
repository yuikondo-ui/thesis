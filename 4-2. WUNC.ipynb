{
 "cells": [
  {
   "cell_type": "code",
   "execution_count": 2,
   "id": "c81e4a38",
   "metadata": {},
   "outputs": [
    {
     "name": "stderr",
     "output_type": "stream",
     "text": [
      "/Users/yuikondo/opt/anaconda3/lib/python3.9/site-packages/IPython/core/interactiveshell.py:3444: DtypeWarning: Columns (0,8,9,12,15) have mixed types.Specify dtype option on import or set low_memory=False.\n",
      "  exec(code_obj, self.user_global_ns, self.user_ns)\n"
     ]
    }
   ],
   "source": [
    "#Import modules\n",
    "%matplotlib inline\n",
    "\n",
    "#handling data\n",
    "import pandas as pd\n",
    "import numpy as np\n",
    "from scipy import stats\n",
    "from operator import itemgetter\n",
    "\n",
    "#handling information\n",
    "import re\n",
    "import json\n",
    "\n",
    "#handling plots\n",
    "import matplotlib.pyplot as plt\n",
    "import seaborn as sns\n",
    "\n",
    "# Read json into a pandas dataframe\n",
    "tweets_df = pd.read_csv(\"data/processed/tweets_08010807_notverified.csv\")\n",
    "\n",
    "# dataを抽出\n",
    "tweets_final = tweets_df[[\"user_id\",'text','created_at']]\n",
    "tweets_final\n",
    "tweets_final.to_csv(\"data/processed/tweets_08010807_notverified_wunc.csv\")"
   ]
  },
  {
   "cell_type": "code",
   "execution_count": 3,
   "id": "c661744c",
   "metadata": {},
   "outputs": [],
   "source": [
    "tweets_data_20220801 = tweets_final[(tweets_final['created_at'] >= '2022-08-01') & (tweets_final['created_at'] < '2022-08-02')]"
   ]
  },
  {
   "cell_type": "code",
   "execution_count": 4,
   "id": "c86cdb96",
   "metadata": {},
   "outputs": [],
   "source": [
    "tweets_data_20220801.to_csv(\"data/processed/tweets_20220801_notverified_wunc.csv\")"
   ]
  },
  {
   "cell_type": "code",
   "execution_count": null,
   "id": "e67f5800",
   "metadata": {},
   "outputs": [],
   "source": []
  }
 ],
 "metadata": {
  "kernelspec": {
   "display_name": "Python 3 (ipykernel)",
   "language": "python",
   "name": "python3"
  },
  "language_info": {
   "codemirror_mode": {
    "name": "ipython",
    "version": 3
   },
   "file_extension": ".py",
   "mimetype": "text/x-python",
   "name": "python",
   "nbconvert_exporter": "python",
   "pygments_lexer": "ipython3",
   "version": "3.9.7"
  }
 },
 "nbformat": 4,
 "nbformat_minor": 5
}
