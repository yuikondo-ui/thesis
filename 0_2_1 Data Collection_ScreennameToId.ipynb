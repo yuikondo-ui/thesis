{
 "cells": [
  {
   "cell_type": "code",
   "execution_count": 1,
   "id": "3d3a1fad",
   "metadata": {},
   "outputs": [],
   "source": [
    "import pandas as pd\n",
    "import csv"
   ]
  },
  {
   "cell_type": "code",
   "execution_count": 4,
   "id": "3731a005",
   "metadata": {},
   "outputs": [
    {
     "data": {
      "text/plain": [
       "'@konotarogomame'"
      ]
     },
     "execution_count": 4,
     "metadata": {},
     "output_type": "execute_result"
    }
   ],
   "source": [
    "politician_df = pd.read_csv(\"data/processed/politicians/politicians.csv\")\n",
    "myHandles = politician_df['screen_name'].values.tolist()\n",
    "myHandles[0]"
   ]
  },
  {
   "cell_type": "code",
   "execution_count": 5,
   "id": "1c83ca1f",
   "metadata": {},
   "outputs": [],
   "source": [
    "# TAKE HANDLES AND CONVERT TO USERID COMMA SEPARATED\n",
    " \n",
    "import tweepy\n",
    "import csv\n",
    "import time\n",
    " \n",
    "# GLOBAL VARS\n",
    "consumer_key = 'tq6NgUguoQw01K8IWJs0VI3dC'\n",
    "consumer_secret = 'sYHmM4HNCG6qjiiULEUJcmbnIQrSy4iPROc3fs1dY0jZdhRL0a'\n",
    "access_token = '1566281927232929797-19W8KoOim3WjYRDMY96AiJ4CSoOpUb'\n",
    "access_token_secret = 'Z9Jr6OvLE4LQBxGRe2nopKKcElEc2UU2tWjY46pnoqsDz'\n",
    " \n",
    "auth = tweepy.OAuthHandler(consumer_key, consumer_secret)\n",
    "auth.set_access_token(access_token, access_token_secret)\n",
    " \n",
    "# SET OBJECT AND AUTHENTICATE\n",
    "api = tweepy.API(auth)\n",
    "# api.get_user(screen_name=\"@konotarogomame\")\n",
    "# user = api.get_user(screen_name=myHandles[0])\n",
    "# id = user.id\n",
    "# Set a new list object\n",
    "myIdList = []\n",
    "\n",
    "# Loop trough the list of usernames\n",
    "\n",
    "for handle in myHandles:\n",
    "    try:\n",
    "        user = api.get_user(screen_name=handle)\n",
    "        id = user.id\n",
    "        myIdList.append(id)\n",
    "    except: #0を欠損値として扱う\n",
    "        id = 0\n",
    "        myIdList.append(id)\n",
    "\n",
    "# Print the lists\n",
    "# print('Usernames',myHandles)\n",
    "# print('Twitter-Ids',myIdList)\n",
    "# #set a filename based on current time\n",
    "# csvfilename = \"csvoutput-\"+time.strftime(\"%Y%m%d%-H%M%S\")+\".csv\"\n",
    "# print('We also outputted a CSV-file named '+csvfilename+' to your file parent directory')\n",
    "# with open(csvfilename, 'w') as myfile:\n",
    "#     wr = csv.writer(myfile, delimiter=',', quotechar='|', quoting=csv.QUOTE_MINIMAL)\n",
    "#     wr.writerow(['username','twitter-id'])\n",
    "#     j = 0\n",
    "#     for handle in myHandles:\n",
    "#         writeline = myHandles[j],myIdList[j]\n",
    "#         wr.writerow(writeline)\n",
    "#         j = j+1"
   ]
  },
  {
   "cell_type": "code",
   "execution_count": 6,
   "id": "12c0e363",
   "metadata": {},
   "outputs": [
    {
     "data": {
      "text/html": [
       "<div>\n",
       "<style scoped>\n",
       "    .dataframe tbody tr th:only-of-type {\n",
       "        vertical-align: middle;\n",
       "    }\n",
       "\n",
       "    .dataframe tbody tr th {\n",
       "        vertical-align: top;\n",
       "    }\n",
       "\n",
       "    .dataframe thead th {\n",
       "        text-align: right;\n",
       "    }\n",
       "</style>\n",
       "<table border=\"1\" class=\"dataframe\">\n",
       "  <thead>\n",
       "    <tr style=\"text-align: right;\">\n",
       "      <th></th>\n",
       "      <th>id</th>\n",
       "    </tr>\n",
       "  </thead>\n",
       "  <tbody>\n",
       "    <tr>\n",
       "      <th>0</th>\n",
       "      <td>104388107</td>\n",
       "    </tr>\n",
       "    <tr>\n",
       "      <th>1</th>\n",
       "      <td>468122115</td>\n",
       "    </tr>\n",
       "    <tr>\n",
       "      <th>2</th>\n",
       "      <td>903338594</td>\n",
       "    </tr>\n",
       "    <tr>\n",
       "      <th>3</th>\n",
       "      <td>1247032696586436609</td>\n",
       "    </tr>\n",
       "    <tr>\n",
       "      <th>4</th>\n",
       "      <td>218434058</td>\n",
       "    </tr>\n",
       "    <tr>\n",
       "      <th>...</th>\n",
       "      <td>...</td>\n",
       "    </tr>\n",
       "    <tr>\n",
       "      <th>238</th>\n",
       "      <td>424983775</td>\n",
       "    </tr>\n",
       "    <tr>\n",
       "      <th>239</th>\n",
       "      <td>1409223888</td>\n",
       "    </tr>\n",
       "    <tr>\n",
       "      <th>240</th>\n",
       "      <td>72974186</td>\n",
       "    </tr>\n",
       "    <tr>\n",
       "      <th>241</th>\n",
       "      <td>129819703</td>\n",
       "    </tr>\n",
       "    <tr>\n",
       "      <th>242</th>\n",
       "      <td>266194470</td>\n",
       "    </tr>\n",
       "  </tbody>\n",
       "</table>\n",
       "<p>243 rows × 1 columns</p>\n",
       "</div>"
      ],
      "text/plain": [
       "                      id\n",
       "0              104388107\n",
       "1              468122115\n",
       "2              903338594\n",
       "3    1247032696586436609\n",
       "4              218434058\n",
       "..                   ...\n",
       "238            424983775\n",
       "239           1409223888\n",
       "240             72974186\n",
       "241            129819703\n",
       "242            266194470\n",
       "\n",
       "[243 rows x 1 columns]"
      ]
     },
     "execution_count": 6,
     "metadata": {},
     "output_type": "execute_result"
    }
   ],
   "source": [
    "myIdList\n",
    "myId_df = pd.DataFrame({\n",
    "    'id': myIdList\n",
    "    })\n",
    "\n",
    "# myId_df = pd.DataFrame(myIdList)\n",
    "# myId_df.rename(columns={'0': 'id'})\n",
    "\n",
    "myId_df"
   ]
  },
  {
   "cell_type": "code",
   "execution_count": 8,
   "id": "a1c5fcf0",
   "metadata": {},
   "outputs": [],
   "source": [
    "#データ結合\n",
    "politician_df = pd.concat([politician_df,pd.DataFrame(myId_df)],axis=1)\n",
    "# politician_df = politician_df.rename(columns={'0': 'id'}) #columnの名前変更\n",
    "politician_df.to_csv(\"data/processed/politicians/politicians.csv\")"
   ]
  },
  {
   "cell_type": "code",
   "execution_count": null,
   "id": "a31febcb",
   "metadata": {},
   "outputs": [],
   "source": []
  }
 ],
 "metadata": {
  "kernelspec": {
   "display_name": "Python 3 (ipykernel)",
   "language": "python",
   "name": "python3"
  },
  "language_info": {
   "codemirror_mode": {
    "name": "ipython",
    "version": 3
   },
   "file_extension": ".py",
   "mimetype": "text/x-python",
   "name": "python",
   "nbconvert_exporter": "python",
   "pygments_lexer": "ipython3",
   "version": "3.9.7"
  }
 },
 "nbformat": 4,
 "nbformat_minor": 5
}
