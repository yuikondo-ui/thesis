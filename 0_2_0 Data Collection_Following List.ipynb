{
 "cells": [
  {
   "cell_type": "code",
   "execution_count": 1,
   "id": "f0e8e88e",
   "metadata": {},
   "outputs": [],
   "source": [
    "## Import Library\n",
    "import json\n",
    "import os\n",
    "import time\n",
    "from dataclasses import dataclass, field\n",
    "from datetime import datetime as dt\n",
    "from typing import NamedTuple\n",
    "import logging\n",
    "import requests\n",
    "import csv\n",
    "import re\n",
    "\n",
    "\n",
    "import urllib3\n",
    "import config\n",
    "\n",
    "import pandas as pd"
   ]
  },
  {
   "cell_type": "code",
   "execution_count": 2,
   "id": "e1dea6b2",
   "metadata": {},
   "outputs": [],
   "source": [
    "## Authentification\n",
    "URL  = 'https://api.twitter.com/2/tweets/search/all'\n",
    "KEY = config.BEARER_TOKEN"
   ]
  },
  {
   "cell_type": "code",
   "execution_count": 26,
   "id": "11e661cc",
   "metadata": {},
   "outputs": [
    {
     "data": {
      "text/plain": [
       "[104388107, 468122115]"
      ]
     },
     "execution_count": 26,
     "metadata": {},
     "output_type": "execute_result"
    }
   ],
   "source": [
    "politician_df = pd.read_csv(\"data/processed/politicians/politicians.csv\")\n",
    "#欠損値処理\n",
    "politician_df = politician_df[politician_df['id'] != 0]\n",
    "politician_df\n",
    "\n",
    "# Idを繰り返し処理のためにリストにする\n",
    "politicianIds = politician_df['id'].values.tolist() \n",
    "tests = politicianIds[0:2]\n",
    "tests"
   ]
  },
  {
   "cell_type": "code",
   "execution_count": 27,
   "id": "e1aa30cc",
   "metadata": {},
   "outputs": [],
   "source": [
    "# str_ = '\\n'.join(str(test))\n",
    "# with open(\"test.txt\", 'wt') as f:\n",
    "#     f.write(str_)\n",
    "\n",
    "with open ('test5.txt', 'w') as f:\n",
    "   for test in tests:\n",
    "     f.write(str(test) + '\\n')"
   ]
  },
  {
   "cell_type": "code",
   "execution_count": 43,
   "id": "361ecee0",
   "metadata": {},
   "outputs": [
    {
     "name": "stdout",
     "output_type": "stream",
     "text": [
      "200\n",
      "200\n",
      "200\n",
      "200\n",
      "200\n",
      "200\n",
      "200\n",
      "200\n",
      "200\n",
      "200\n",
      "200\n",
      "200\n",
      "200\n",
      "200\n",
      "429\n"
     ]
    },
    {
     "ename": "Exception",
     "evalue": "Request returned an error: 429 {\"title\":\"Too Many Requests\",\"detail\":\"Too Many Requests\",\"type\":\"about:blank\",\"status\":429}",
     "output_type": "error",
     "traceback": [
      "\u001b[0;31m---------------------------------------------------------------------------\u001b[0m",
      "\u001b[0;31mException\u001b[0m                                 Traceback (most recent call last)",
      "\u001b[0;32m/var/folders/6l/9sc4ys752w1_7xp_8yvrq3600000gn/T/ipykernel_57014/679825702.py\u001b[0m in \u001b[0;36m<module>\u001b[0;34m\u001b[0m\n\u001b[1;32m     89\u001b[0m \u001b[0;34m\u001b[0m\u001b[0m\n\u001b[1;32m     90\u001b[0m \u001b[0;32mif\u001b[0m \u001b[0m__name__\u001b[0m \u001b[0;34m==\u001b[0m \u001b[0;34m\"__main__\"\u001b[0m\u001b[0;34m:\u001b[0m\u001b[0;34m\u001b[0m\u001b[0;34m\u001b[0m\u001b[0m\n\u001b[0;32m---> 91\u001b[0;31m     \u001b[0mmain\u001b[0m\u001b[0;34m(\u001b[0m\u001b[0;34m)\u001b[0m\u001b[0;34m\u001b[0m\u001b[0;34m\u001b[0m\u001b[0m\n\u001b[0m",
      "\u001b[0;32m/var/folders/6l/9sc4ys752w1_7xp_8yvrq3600000gn/T/ipykernel_57014/679825702.py\u001b[0m in \u001b[0;36mmain\u001b[0;34m()\u001b[0m\n\u001b[1;32m     66\u001b[0m             \u001b[0murl\u001b[0m \u001b[0;34m=\u001b[0m \u001b[0mcreate_url\u001b[0m\u001b[0;34m(\u001b[0m\u001b[0muser_id\u001b[0m\u001b[0;34m,\u001b[0m \u001b[0mff\u001b[0m\u001b[0;34m,\u001b[0m \u001b[0mmax_results\u001b[0m\u001b[0;34m,\u001b[0m \u001b[0mnext_token\u001b[0m\u001b[0;34m,\u001b[0m \u001b[0muser_fields\u001b[0m\u001b[0;34m)\u001b[0m\u001b[0;34m\u001b[0m\u001b[0;34m\u001b[0m\u001b[0m\n\u001b[1;32m     67\u001b[0m             \u001b[0mheaders\u001b[0m \u001b[0;34m=\u001b[0m \u001b[0mcreate_headers\u001b[0m\u001b[0;34m(\u001b[0m\u001b[0mBEARER_TOKEN\u001b[0m\u001b[0;34m)\u001b[0m\u001b[0;34m\u001b[0m\u001b[0;34m\u001b[0m\u001b[0m\n\u001b[0;32m---> 68\u001b[0;31m             \u001b[0mjson_response\u001b[0m \u001b[0;34m=\u001b[0m \u001b[0mconnect_to_endpoint\u001b[0m\u001b[0;34m(\u001b[0m\u001b[0murl\u001b[0m\u001b[0;34m,\u001b[0m \u001b[0mheaders\u001b[0m\u001b[0;34m)\u001b[0m\u001b[0;34m\u001b[0m\u001b[0;34m\u001b[0m\u001b[0m\n\u001b[0m\u001b[1;32m     69\u001b[0m             \u001b[0mdata\u001b[0m \u001b[0;34m=\u001b[0m \u001b[0mjson_response\u001b[0m\u001b[0;34m[\u001b[0m\u001b[0;34m\"data\"\u001b[0m\u001b[0;34m]\u001b[0m\u001b[0;34m\u001b[0m\u001b[0;34m\u001b[0m\u001b[0m\n\u001b[1;32m     70\u001b[0m             \u001b[0mmeta\u001b[0m \u001b[0;34m=\u001b[0m \u001b[0mjson_response\u001b[0m\u001b[0;34m[\u001b[0m\u001b[0;34m\"meta\"\u001b[0m\u001b[0;34m]\u001b[0m\u001b[0;34m\u001b[0m\u001b[0;34m\u001b[0m\u001b[0m\n",
      "\u001b[0;32m/var/folders/6l/9sc4ys752w1_7xp_8yvrq3600000gn/T/ipykernel_57014/679825702.py\u001b[0m in \u001b[0;36mconnect_to_endpoint\u001b[0;34m(url, headers)\u001b[0m\n\u001b[1;32m     25\u001b[0m     \u001b[0mprint\u001b[0m\u001b[0;34m(\u001b[0m\u001b[0mresponse\u001b[0m\u001b[0;34m.\u001b[0m\u001b[0mstatus_code\u001b[0m\u001b[0;34m)\u001b[0m\u001b[0;34m\u001b[0m\u001b[0;34m\u001b[0m\u001b[0m\n\u001b[1;32m     26\u001b[0m     \u001b[0;32mif\u001b[0m \u001b[0mresponse\u001b[0m\u001b[0;34m.\u001b[0m\u001b[0mstatus_code\u001b[0m \u001b[0;34m!=\u001b[0m \u001b[0;36m200\u001b[0m\u001b[0;34m:\u001b[0m\u001b[0;34m\u001b[0m\u001b[0;34m\u001b[0m\u001b[0m\n\u001b[0;32m---> 27\u001b[0;31m         \u001b[0;32mraise\u001b[0m \u001b[0mException\u001b[0m\u001b[0;34m(\u001b[0m\u001b[0;34m\"Request returned an error: {} {}\"\u001b[0m\u001b[0;34m.\u001b[0m\u001b[0mformat\u001b[0m\u001b[0;34m(\u001b[0m\u001b[0mresponse\u001b[0m\u001b[0;34m.\u001b[0m\u001b[0mstatus_code\u001b[0m\u001b[0;34m,\u001b[0m \u001b[0mresponse\u001b[0m\u001b[0;34m.\u001b[0m\u001b[0mtext\u001b[0m\u001b[0;34m)\u001b[0m\u001b[0;34m)\u001b[0m\u001b[0;34m\u001b[0m\u001b[0;34m\u001b[0m\u001b[0m\n\u001b[0m\u001b[1;32m     28\u001b[0m     \u001b[0;32mreturn\u001b[0m \u001b[0mresponse\u001b[0m\u001b[0;34m.\u001b[0m\u001b[0mjson\u001b[0m\u001b[0;34m(\u001b[0m\u001b[0;34m)\u001b[0m\u001b[0;34m\u001b[0m\u001b[0;34m\u001b[0m\u001b[0m\n\u001b[1;32m     29\u001b[0m \u001b[0;34m\u001b[0m\u001b[0m\n",
      "\u001b[0;31mException\u001b[0m: Request returned an error: 429 {\"title\":\"Too Many Requests\",\"detail\":\"Too Many Requests\",\"type\":\"about:blank\",\"status\":429}"
     ]
    }
   ],
   "source": [
    "\n",
    "##### FUNCTIONS\n",
    "# usernames：ユーザー名　user_fields:取得データ　APIリクエスト用のURLを作成\n",
    "def create_url(user_id, ff, max_results, next_token, user_fields):\n",
    "    if(any(user_fields)):\n",
    "        formatted_user_fields = \"user.fields=\" + \",\".join(user_fields)\n",
    "    else:\n",
    "        formatted_user_fields = \"\"\n",
    "    if(next_token is not None):\n",
    "        formatted_next_token = \"&pagination_token=\" + (next_token)\n",
    "    else:\n",
    "        formatted_next_token = \"\"\n",
    "    if(max_results > 1000): max_results = 1000 \n",
    "    #&pagination_token=\n",
    "    url = \"https://api.twitter.com/2/users/{}/{}?max_results={}{}&{}\".format(user_id, ff, max_results, formatted_next_token, formatted_user_fields)\n",
    "    return url\n",
    "\n",
    "\n",
    "def create_headers(bearer_token):\n",
    "    headers = {\"Authorization\": \"Bearer {}\".format(bearer_token)}\n",
    "    return headers\n",
    "\n",
    "\n",
    "def connect_to_endpoint(url, headers):\n",
    "    response = requests.request(\"GET\", url, headers=headers)\n",
    "    print(response.status_code)\n",
    "    if response.status_code != 200:\n",
    "        raise Exception(\"Request returned an error: {} {}\".format(response.status_code, response.text))\n",
    "    return response.json()\n",
    "\n",
    "# filename：出力ファイル名 header:ヘッダー contents_list:中身\n",
    "def save_csvfile(filename, header, contents_list): \n",
    "    if(not os.path.isfile(filename)): # 既存の同名ファイルがなければ新規作成\n",
    "        with open(filename, \"w\", newline=\"\", encoding=\"utf-16\") as f:\n",
    "            w = csv.DictWriter(f, fieldnames=header, dialect=\"excel-tab\", quoting=csv.QUOTE_ALL)\n",
    "            w.writeheader()\n",
    "\n",
    "    with open(filename, \"a\", newline=\"\", encoding=\"utf-16\") as f:\n",
    "        w = csv.DictWriter(f, fieldnames=header, dialect=\"excel-tab\", quoting=csv.QUOTE_ALL)\n",
    "        for contents in contents_list:\n",
    "            for k in contents.keys(): #### 文字列内のNullを除去\n",
    "                if(type(contents[k]) is str): contents[k] = contents[k].replace(\"\\0\", \"\")\n",
    "            w.writerow(contents)\n",
    "\n",
    "#### MAIN\n",
    "def main():\n",
    "    #### VARIABLES\n",
    "    # APIキー https://developer.twitter.com から取得\n",
    "    BEARER_TOKEN = config.BEARER_TOKEN\n",
    "    # フォローしてる人を探すときは[0] フォロワーを探すときは[1]\n",
    "    ff = [\"following\", \"followers\"][0]\n",
    "    # 取得したいデータ数\n",
    "    max_results = 10000\n",
    "    # 取得データ  e.g. user_fields = [\"id\", \"name\", \"username\", \"created_at\", \"description\"]\n",
    "    # created_at(作成時刻), description(アカウントの自己紹介)などの情報が欲しい場合はtweet_fieldsに書く\n",
    "    user_fields = [\"id\", \"name\", \"username\", \"created_at\",\"protected\", \"url\", \"description\", \"verified\",\n",
    "      \"profile_image_url\", \"public_metrics\", \"pinned_tweet_id\"]\n",
    "    \n",
    "    #### データ取得\n",
    "    next_token = None\n",
    "    data_len = 0\n",
    "    \n",
    "    for politicianId in politicianIds:\n",
    "        # ユーザーID\n",
    "        user_id = politicianId #リストを入れる。\n",
    "        while(True):\n",
    "            url = create_url(user_id, ff, max_results, next_token, user_fields)\n",
    "            headers = create_headers(BEARER_TOKEN)\n",
    "            json_response = connect_to_endpoint(url, headers)\n",
    "            data = json_response[\"data\"]\n",
    "            meta = json_response[\"meta\"]\n",
    "\n",
    "            #### 取得データ保存(user_id + [following or followers] + .csv)\n",
    "            csv_file_name = re.sub(r'[\\\\/:*?\"<>|.]+','',str(user_id) + \"_\" + ff ) + \".csv\" # ファイルに使えない文字削除\n",
    "            save_csvfile(f\"data/processed/politicians/following/{csv_file_name}\", user_fields, data)\n",
    "    #         with open(f'{user_id}_{ff}.csv') as f:\n",
    "    #             print(f.read())\n",
    "    #         print(f\"{str(user_id)}_{ff}.csv\")\n",
    "            df = pd.read_csv(f\"data/processed/politicians/following/{user_id}_{ff}.csv\", encoding=\"utf-16\", sep='\\t')\n",
    "            # politician_idと紐づける\n",
    "            df['politician_id'] = user_id\n",
    "            df.to_csv(f\"{user_id}_{ff}.csv\", index=None)\n",
    "            #### 終了チェック(欲しい数に達するか全て取り終わったら終了)\n",
    "            data_len += len(data)\n",
    "            if(max_results <= data_len): break\n",
    "            if(not \"next_token\" in meta): break\n",
    "            next_token = meta[\"next_token\"]\n",
    "        pass\n",
    "\n",
    "\n",
    "if __name__ == \"__main__\":\n",
    "    main()"
   ]
  },
  {
   "cell_type": "code",
   "execution_count": 6,
   "id": "c55d9c03",
   "metadata": {},
   "outputs": [
    {
     "ename": "NameError",
     "evalue": "name 'csv_file_name' is not defined",
     "output_type": "error",
     "traceback": [
      "\u001b[0;31m---------------------------------------------------------------------------\u001b[0m",
      "\u001b[0;31mNameError\u001b[0m                                 Traceback (most recent call last)",
      "\u001b[0;32m/var/folders/6l/9sc4ys752w1_7xp_8yvrq3600000gn/T/ipykernel_52741/335027664.py\u001b[0m in \u001b[0;36m<module>\u001b[0;34m\u001b[0m\n\u001b[0;32m----> 1\u001b[0;31m \u001b[0mpd\u001b[0m\u001b[0;34m.\u001b[0m\u001b[0mread_csv\u001b[0m\u001b[0;34m(\u001b[0m\u001b[0mcsv_file_name\u001b[0m\u001b[0;34m)\u001b[0m\u001b[0;34m\u001b[0m\u001b[0;34m\u001b[0m\u001b[0m\n\u001b[0m",
      "\u001b[0;31mNameError\u001b[0m: name 'csv_file_name' is not defined"
     ]
    }
   ],
   "source": [
    "pd.read_csv(csv_file_name)"
   ]
  },
  {
   "cell_type": "code",
   "execution_count": null,
   "id": "0f8cb236",
   "metadata": {},
   "outputs": [],
   "source": []
  }
 ],
 "metadata": {
  "kernelspec": {
   "display_name": "Python 3 (ipykernel)",
   "language": "python",
   "name": "python3"
  },
  "language_info": {
   "codemirror_mode": {
    "name": "ipython",
    "version": 3
   },
   "file_extension": ".py",
   "mimetype": "text/x-python",
   "name": "python",
   "nbconvert_exporter": "python",
   "pygments_lexer": "ipython3",
   "version": "3.9.7"
  }
 },
 "nbformat": 4,
 "nbformat_minor": 5
}
