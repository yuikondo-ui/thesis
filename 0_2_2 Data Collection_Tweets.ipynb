{
 "cells": [
  {
   "cell_type": "code",
   "execution_count": 4,
   "id": "2282ea11",
   "metadata": {},
   "outputs": [
    {
     "name": "stdout",
     "output_type": "stream",
     "text": [
      "        User                                              Tweet\n",
      "0    7856582  Of course we had to introduce them to @Georget...\n",
      "1    7856582  😍😍😍\\n\\nCan't get enough of our halftime puppy ...\n",
      "2    7856582  It's youth jersey day at @GeorgetownWBB this S...\n",
      "3    7856582  TICKETS NOW ON SALE! 🏀\\n\\nIt's a must-see matc...\n",
      "4    7856582  All D.C. residents can attend the @GeorgetownH...\n",
      "..       ...                                                ...\n",
      "295  7856582  Excited to offer another Blueprint session for...\n",
      "296  7856582  Wonderful evening hosting members of @hoyablue...\n",
      "297  7856582  Excited to offer a student fan bus at two upco...\n",
      "298  7856582  Justine M. Metz (B'88) is the @HoyaVolleyball ...\n",
      "299  7856582  We've got 𝐋𝐚𝐱𝐱 𝐖𝐞𝐞𝐤𝐞𝐧𝐝 on deck, presented by @...\n",
      "\n",
      "[300 rows x 2 columns]\n"
     ]
    }
   ],
   "source": [
    "import tweepy\n",
    "import config\n",
    "import pandas as pd\n",
    "\n",
    "# read configs\n",
    "\n",
    "api_key = config.API_KEY\n",
    "api_key_secret = config.API_SECRET\n",
    "access_token = config.ACCESS_TOKEN\n",
    "access_token_secret = config.ACCESS_TOKEN_SECRET\n",
    "\n",
    "# authentication\n",
    "auth = tweepy.OAuthHandler(api_key, api_key_secret)\n",
    "auth.set_access_token(access_token, access_token_secret)\n",
    "\n",
    "api = tweepy.API(auth)\n",
    "\n",
    "# user tweets\n",
    "user_id = 7856582\n",
    "limit=300\n",
    "\n",
    "tweets = tweepy.Cursor(api.user_timeline, user_id = user_id, count=200, tweet_mode='extended').items(limit)\n",
    "\n",
    "# tweets = api.user_timeline(screen_name=user, count=limit, tweet_mode='extended')\n",
    "\n",
    "# create DataFrame\n",
    "columns = ['User', 'Tweet']\n",
    "data = []\n",
    "\n",
    "for tweet in tweets:\n",
    "    data.append([tweet.user.id, tweet.full_text])\n",
    "\n",
    "tweets_df = pd.DataFrame(data, columns=columns)\n",
    "\n",
    "print(tweets_df)"
   ]
  },
  {
   "cell_type": "code",
   "execution_count": null,
   "id": "be1d0fac",
   "metadata": {},
   "outputs": [],
   "source": []
  }
 ],
 "metadata": {
  "kernelspec": {
   "display_name": "Python 3 (ipykernel)",
   "language": "python",
   "name": "python3"
  },
  "language_info": {
   "codemirror_mode": {
    "name": "ipython",
    "version": 3
   },
   "file_extension": ".py",
   "mimetype": "text/x-python",
   "name": "python",
   "nbconvert_exporter": "python",
   "pygments_lexer": "ipython3",
   "version": "3.9.7"
  }
 },
 "nbformat": 4,
 "nbformat_minor": 5
}
