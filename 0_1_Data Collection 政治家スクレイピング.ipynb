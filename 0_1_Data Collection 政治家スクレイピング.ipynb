{
 "cells": [
  {
   "cell_type": "code",
   "execution_count": 2,
   "id": "29ef4d08",
   "metadata": {},
   "outputs": [],
   "source": [
    "from bs4 import BeautifulSoup as bs4\n",
    "import requests\n",
    "import regex as re"
   ]
  },
  {
   "cell_type": "code",
   "execution_count": 5,
   "id": "76614008",
   "metadata": {},
   "outputs": [],
   "source": [
    "#自民党(ダミー0)\n",
    "url = 'https://meyou.jp/group/%E8%87%AA%E7%94%B1%E6%B0%91%E4%B8%BB%E5%85%9A/'\n",
    "res = requests.get(url)\n",
    "res\n",
    "soup = bs4(res.text, \"html.parser\")\n",
    "list = soup.find(\"div\", {'class' : 'group-members'})\n",
    "members = list.find_all('li')\n",
    "politicians_jimin = [['name', 'screen_name']]\n",
    "for member in members:\n",
    "    title = member.find('img').get('title')  \n",
    "    name = re.sub(\"\\(.+?\\)\", \"\", title) \n",
    "    screen_name = re.findall(\"(?<=\\().+?(?=\\))\", title)[0]\n",
    "    politicians_jimin.append([name, screen_name])\n",
    "\n",
    "import csv\n",
    "with open('politicians_jimin.csv', 'w', encoding=\"utf-8\") as file:\n",
    "  writer = csv.writer(file, lineterminator='\\n')\n",
    "  writer.writerows(politicians_jimin)"
   ]
  },
  {
   "cell_type": "code",
   "execution_count": 6,
   "id": "e287a9f9",
   "metadata": {},
   "outputs": [],
   "source": [
    "#民進党(ダミー1)\n",
    "url = 'https://meyou.jp/group/%E6%B0%91%E9%80%B2%E5%85%9A/'\n",
    "res = requests.get(url)\n",
    "res\n",
    "soup = bs4(res.text, \"html.parser\")\n",
    "list = soup.find(\"div\", {'class' : 'group-members'})\n",
    "members = list.find_all('li')\n",
    "politicians_minshin = [['name', 'screen_name']]\n",
    "for member in members:\n",
    "    title = member.find('img').get('title')  \n",
    "    name = re.sub(\"\\(.+?\\)\", \"\", title) \n",
    "    screen_name = re.findall(\"(?<=\\().+?(?=\\))\", title)[0]\n",
    "    politicians_minshin.append([name, screen_name])\n",
    "\n",
    "import csv\n",
    "with open('politicians_minshin.csv', 'w', encoding=\"utf-8\") as file:\n",
    "  writer = csv.writer(file, lineterminator='\\n')\n",
    "  writer.writerows(politicians_minshin)"
   ]
  },
  {
   "cell_type": "code",
   "execution_count": 7,
   "id": "07868407",
   "metadata": {},
   "outputs": [],
   "source": [
    "#立憲民主党(ダミー2)\n",
    "url = 'https://meyou.jp/group/%E7%AB%8B%E6%86%B2%E6%B0%91%E4%B8%BB%E5%85%9A/'\n",
    "res = requests.get(url)\n",
    "res\n",
    "soup = bs4(res.text, \"html.parser\")\n",
    "list = soup.find(\"div\", {'class' : 'group-members'})\n",
    "members = list.find_all('li')\n",
    "politicians_rikken = [['name', 'screen_name']]\n",
    "for member in members:\n",
    "    title = member.find('img').get('title')  \n",
    "    name = re.sub(\"\\(.+?\\)\", \"\", title) \n",
    "    screen_name = re.findall(\"(?<=\\().+?(?=\\))\", title)[0]\n",
    "    politicians_rikken.append([name, screen_name])\n",
    "\n",
    "import csv\n",
    "with open('politicians_rikken.csv', 'w', encoding=\"utf-8\") as file:\n",
    "  writer = csv.writer(file, lineterminator='\\n')\n",
    "  writer.writerows(politicians_rikken)\n",
    "    "
   ]
  },
  {
   "cell_type": "code",
   "execution_count": 10,
   "id": "199f4bb5",
   "metadata": {},
   "outputs": [],
   "source": [
    "#公明党 (ダミー3)\n",
    "url = 'https://meyou.jp/group/%E5%85%AC%E6%98%8E%E5%85%9A/'\n",
    "res = requests.get(url)\n",
    "soup = bs4(res.text, \"html.parser\")\n",
    "list = soup.find(\"div\", {'class' : 'group-members'})\n",
    "members = list.find_all('li')\n",
    "politicians_komei = [['name', 'screen_name']]\n",
    "for member in members:\n",
    "    title = member.find('img').get('title')  \n",
    "    name = re.sub(\"\\(.+?\\)\", \"\", title) \n",
    "    screen_name = re.findall(\"(?<=\\().+?(?=\\))\", title)[0]\n",
    "    politicians_komei.append([name, screen_name])\n",
    "\n",
    "import csv\n",
    "with open('politicians_komei.csv', 'w', encoding=\"utf-8\") as file:\n",
    "  writer = csv.writer(file, lineterminator='\\n')\n",
    "  writer.writerows(politicians_komei)\n",
    "    "
   ]
  },
  {
   "cell_type": "code",
   "execution_count": 13,
   "id": "40e3f23a",
   "metadata": {},
   "outputs": [],
   "source": [
    "#日本維新の会 (ダミー４)\n",
    "\n",
    "url = 'https://meyou.jp/group/%E6%97%A5%E6%9C%AC%E7%B6%AD%E6%96%B0%E3%81%AE%E4%BC%9A/'\n",
    "res = requests.get(url)\n",
    "soup = bs4(res.text, \"html.parser\")\n",
    "list = soup.find(\"div\", {'class' : 'group-members'})\n",
    "members = list.find_all('li')\n",
    "politicians_ishin = [['name', 'screen_name']]\n",
    "for member in members:\n",
    "    title = member.find('img').get('title')  \n",
    "    name = re.sub(\"\\(.+?\\)\", \"\", title) \n",
    "    screen_name = re.findall(\"(?<=\\().+?(?=\\))\", title)[0]\n",
    "    politicians_ishin.append([name, screen_name])\n",
    "\n",
    "import csv\n",
    "with open('politicians_ishin.csv', 'w', encoding=\"utf-8\") as file:\n",
    "  writer = csv.writer(file, lineterminator='\\n')\n",
    "  writer.writerows(politicians_ishin)"
   ]
  },
  {
   "cell_type": "code",
   "execution_count": 17,
   "id": "e62bd35f",
   "metadata": {},
   "outputs": [],
   "source": [
    "# 共産党　（ダミー５）\n",
    "\n",
    "url = 'https://meyou.jp/group/%E6%97%A5%E6%9C%AC%E5%85%B1%E7%94%A3%E5%85%9A/'\n",
    "res = requests.get(url)\n",
    "soup = bs4(res.text, \"html.parser\")\n",
    "list = soup.find(\"div\", {'class' : 'group-members'})\n",
    "members = list.find_all('li')\n",
    "politicians_kyosan = [['name', 'screen_name']]\n",
    "for member in members:\n",
    "    title = member.find('img').get('title')  \n",
    "    name = re.sub(\"\\(.+?\\)\", \"\", title) \n",
    "    screen_name = re.findall(\"(?<=\\().+?(?=\\))\", title)[0]\n",
    "    politicians_kyosan.append([name, screen_name])\n",
    "import csv\n",
    "with open('politicians_kyosan.csv', 'w', encoding=\"utf-8\") as file:\n",
    "  writer = csv.writer(file, lineterminator='\\n')\n",
    "  writer.writerows(politicians_kyosan)"
   ]
  },
  {
   "cell_type": "code",
   "execution_count": null,
   "id": "cca381e3",
   "metadata": {},
   "outputs": [],
   "source": []
  }
 ],
 "metadata": {
  "kernelspec": {
   "display_name": "Python 3 (ipykernel)",
   "language": "python",
   "name": "python3"
  },
  "language_info": {
   "codemirror_mode": {
    "name": "ipython",
    "version": 3
   },
   "file_extension": ".py",
   "mimetype": "text/x-python",
   "name": "python",
   "nbconvert_exporter": "python",
   "pygments_lexer": "ipython3",
   "version": "3.9.7"
  }
 },
 "nbformat": 4,
 "nbformat_minor": 5
}
