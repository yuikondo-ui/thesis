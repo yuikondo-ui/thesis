{
 "cells": [
  {
   "cell_type": "code",
   "execution_count": 1,
   "id": "72718131",
   "metadata": {},
   "outputs": [],
   "source": [
    "## Import Library\n",
    "import json\n",
    "import os\n",
    "import time\n",
    "from dataclasses import dataclass, field\n",
    "from datetime import datetime as dt\n",
    "from typing import NamedTuple\n",
    "import logging\n",
    "import requests\n",
    "import csv\n",
    "import re\n",
    "import urllib3\n",
    "import config\n",
    "import pandas as pd"
   ]
  },
  {
   "cell_type": "code",
   "execution_count": 4,
   "id": "b888199b",
   "metadata": {},
   "outputs": [],
   "source": [
    "following_df = pd.read_csv(\"users1.csv\")"
   ]
  },
  {
   "cell_type": "code",
   "execution_count": 14,
   "id": "4a6e116d",
   "metadata": {},
   "outputs": [],
   "source": [
    "#id, name, descriptionを取り出す\n",
    "following_df = following_df[['id', 'name', 'description']]\n",
    "#リストにする\n",
    "yamazoe_friends = following_df['id'].values.tolist()"
   ]
  },
  {
   "cell_type": "code",
   "execution_count": 15,
   "id": "2a5c5726",
   "metadata": {},
   "outputs": [],
   "source": [
    "with open ('yamazoe_following.txt', 'w') as f:\n",
    "   for yamazoe_friend in yamazoe_friends:\n",
    "     f.write(str(yamazoe_friend) + '\\n')"
   ]
  },
  {
   "cell_type": "code",
   "execution_count": null,
   "id": "ea0b34f2",
   "metadata": {},
   "outputs": [],
   "source": []
  }
 ],
 "metadata": {
  "kernelspec": {
   "display_name": "Python 3 (ipykernel)",
   "language": "python",
   "name": "python3"
  },
  "language_info": {
   "codemirror_mode": {
    "name": "ipython",
    "version": 3
   },
   "file_extension": ".py",
   "mimetype": "text/x-python",
   "name": "python",
   "nbconvert_exporter": "python",
   "pygments_lexer": "ipython3",
   "version": "3.9.7"
  }
 },
 "nbformat": 4,
 "nbformat_minor": 5
}
